{
 "cells": [
  {
   "cell_type": "code",
   "execution_count": 1,
   "metadata": {},
   "outputs": [],
   "source": [
    "import numpy as np"
   ]
  },
  {
   "cell_type": "markdown",
   "metadata": {},
   "source": [
    "# SenSwap Prototype\n",
    "\n",
    "## System Components\n",
    "\n",
    "- Liquidity Pool\n",
    "- Transaction Manager\n",
    "- User"
   ]
  },
  {
   "cell_type": "markdown",
   "metadata": {},
   "source": [
    "## Liquidity Pool\n",
    "\n",
    "Properties:\n",
    "- name: tokenX/tokenY\n",
    "- bonding_curve: (a,b,f)\n",
    "- reserve: (x, y)\n",
    "- list of contributors: {user_id: (s_x, s_y)}"
   ]
  },
  {
   "cell_type": "code",
   "execution_count": null,
   "metadata": {},
   "outputs": [],
   "source": [
    "class LiquidityPool(object):\n",
    "    def __init__(self, name, bonding_curve=(0., 0., 1.)):\n",
    "        super(LiquidityPool, self).__init__()\n",
    "        self.name = name\n",
    "        self.bonding_curve = bonding_curve\n",
    "        self.reserve = np.array([0., 0.], dtype=float)\n",
    "        self.contributors = {}"
   ]
  },
  {
   "cell_type": "markdown",
   "metadata": {},
   "source": [
    "## Transaction Manager"
   ]
  },
  {
   "cell_type": "code",
   "execution_count": null,
   "metadata": {},
   "outputs": [],
   "source": [
    "# Should be singleton\n",
    "class TransactionManager(object):\n",
    "    def __init__(self):\n",
    "        super(TransactionManager, self).__init__()\n",
    "        self.pools = {}\n",
    "        \n",
    "    @staticmethod\n",
    "    def price_interval(a, b, f):\n",
    "        z = a - np.sqrt(f)\n",
    "        upper = (b*z - 2*a) / ( 2*(z-a) )\n",
    "        lower = ( 2*(z-a) ) / (b*z - 2*a)\n",
    "        return (lower, upper)\n",
    "    \n",
    "    @staticmethod\n",
    "    def get_marginal_price(reserve, bonding_curve):\n",
    "        a,b,f = bonding_curve\n",
    "        return \n",
    "        \n",
    "    def initialize_pool(self, token_1: str, token_2: str):\n",
    "        name = token_1 + \"/\" + token_2\n",
    "        new_pool = LiquidityPool(\n",
    "                            name=name,\n",
    "                            bonding_curve=(0., 0., 1.))\n",
    "        self.pools[name] = new_pool\n",
    "        \n",
    "    def swap(self, user_id: str, token_in: str, token_out: str, amount_out: float) -> float:\n",
    "        # TODO: define price calculation here\n",
    "        return 0\n",
    "    \n",
    "    def deposit(self, user_id: str, pool_name: str, deposit_amount: np.array) -> np.array:\n",
    "        # TODO: define liquidity provision here\n",
    "        return"
   ]
  },
  {
   "cell_type": "markdown",
   "metadata": {},
   "source": [
    "## User\n",
    "- Wallet: {tokenA: A, tokenB: B,...}\n",
    "- TokenShares: {pool1: (s_x, s_y), pool2: (s_x, s_y)}"
   ]
  },
  {
   "cell_type": "code",
   "execution_count": null,
   "metadata": {},
   "outputs": [],
   "source": [
    "class User(object):\n",
    "    def __init__(self, user_id, username):\n",
    "        super(User, self).__init__()\n",
    "        self.user_id = user_id\n",
    "        self.username = username\n",
    "        self.wallets = {}\n",
    "        self.token_shares = {}"
   ]
  },
  {
   "cell_type": "code",
   "execution_count": null,
   "metadata": {},
   "outputs": [],
   "source": []
  },
  {
   "cell_type": "code",
   "execution_count": null,
   "metadata": {},
   "outputs": [],
   "source": []
  },
  {
   "cell_type": "code",
   "execution_count": null,
   "metadata": {},
   "outputs": [],
   "source": []
  },
  {
   "cell_type": "code",
   "execution_count": null,
   "metadata": {},
   "outputs": [],
   "source": []
  },
  {
   "cell_type": "code",
   "execution_count": null,
   "metadata": {},
   "outputs": [],
   "source": []
  }
 ],
 "metadata": {
  "kernelspec": {
   "display_name": "Python 3",
   "language": "python",
   "name": "python3"
  },
  "language_info": {
   "codemirror_mode": {
    "name": "ipython",
    "version": 3
   },
   "file_extension": ".py",
   "mimetype": "text/x-python",
   "name": "python",
   "nbconvert_exporter": "python",
   "pygments_lexer": "ipython3",
   "version": "3.8.6"
  }
 },
 "nbformat": 4,
 "nbformat_minor": 4
}
